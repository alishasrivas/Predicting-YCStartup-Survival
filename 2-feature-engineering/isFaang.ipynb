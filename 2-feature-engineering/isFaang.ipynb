{
 "cells": [
  {
   "cell_type": "code",
   "execution_count": 2,
   "metadata": {},
   "outputs": [],
   "source": [
    "import pandas as pd"
   ]
  },
  {
   "cell_type": "code",
   "execution_count": 3,
   "metadata": {},
   "outputs": [
    {
     "name": "stdout",
     "output_type": "stream",
     "text": [
      "Index(['Unnamed: 0', 'id', 'name', 'slug', 'website', 'smallLogoUrl',\n",
      "       'oneLiner', 'longDescription', 'teamSize', 'url', 'batch', 'status'],\n",
      "      dtype='object')\n",
      "Index(['hnid', 'company'], dtype='object')\n",
      "Index(['first_name', 'last_name', 'hnid', 'avatar_thumb', 'current_company',\n",
      "       'current_title', 'company_slug', 'top_company'],\n",
      "      dtype='object')\n"
     ]
    }
   ],
   "source": [
    "companies = pd.read_csv(\"/Users/siddarvind/Downloads/companies.csv\")\n",
    "prior_companies = pd.read_csv(\"/Users/siddarvind/Downloads/prior_companies.csv\")\n",
    "founders = pd.read_csv(\"/Users/siddarvind/Downloads/founders.csv\")\n",
    "\n",
    "print(f\"{companies.columns}\")\n",
    "print(f\"{prior_companies.columns}\")\n",
    "print(f\"{founders.columns}\")\n",
    "\n"
   ]
  },
  {
   "cell_type": "code",
   "execution_count": 4,
   "metadata": {},
   "outputs": [
    {
     "data": {
      "text/html": [
       "<div>\n",
       "<style scoped>\n",
       "    .dataframe tbody tr th:only-of-type {\n",
       "        vertical-align: middle;\n",
       "    }\n",
       "\n",
       "    .dataframe tbody tr th {\n",
       "        vertical-align: top;\n",
       "    }\n",
       "\n",
       "    .dataframe thead th {\n",
       "        text-align: right;\n",
       "    }\n",
       "</style>\n",
       "<table border=\"1\" class=\"dataframe\">\n",
       "  <thead>\n",
       "    <tr style=\"text-align: right;\">\n",
       "      <th></th>\n",
       "      <th>first_name</th>\n",
       "      <th>last_name</th>\n",
       "      <th>hnid</th>\n",
       "      <th>avatar_thumb</th>\n",
       "      <th>current_company</th>\n",
       "      <th>current_title</th>\n",
       "      <th>company_slug</th>\n",
       "      <th>top_company</th>\n",
       "    </tr>\n",
       "  </thead>\n",
       "  <tbody>\n",
       "    <tr>\n",
       "      <th>0</th>\n",
       "      <td>Debanjum</td>\n",
       "      <td>Singh Solanky</td>\n",
       "      <td>110</td>\n",
       "      <td>https://bookface-images.s3.amazonaws.com/avata...</td>\n",
       "      <td>Khoj</td>\n",
       "      <td>NaN</td>\n",
       "      <td>khoj</td>\n",
       "      <td>False</td>\n",
       "    </tr>\n",
       "    <tr>\n",
       "      <th>1</th>\n",
       "      <td>Jon</td>\n",
       "      <td>Wade</td>\n",
       "      <td>__JW__</td>\n",
       "      <td>https://bookface-images.s3.amazonaws.com/avata...</td>\n",
       "      <td>NaN</td>\n",
       "      <td>NaN</td>\n",
       "      <td>union54</td>\n",
       "      <td>False</td>\n",
       "    </tr>\n",
       "    <tr>\n",
       "      <th>2</th>\n",
       "      <td>Sy</td>\n",
       "      <td>Bohy</td>\n",
       "      <td>__sy__</td>\n",
       "      <td>https://bookface-images.s3.amazonaws.com/avata...</td>\n",
       "      <td>Seam</td>\n",
       "      <td>NaN</td>\n",
       "      <td>seam</td>\n",
       "      <td>False</td>\n",
       "    </tr>\n",
       "    <tr>\n",
       "      <th>3</th>\n",
       "      <td>Abdelrahman</td>\n",
       "      <td>Hosny</td>\n",
       "      <td>_ahosny</td>\n",
       "      <td>https://bookface-images.s3.amazonaws.com/avata...</td>\n",
       "      <td>ShipBlu</td>\n",
       "      <td>NaN</td>\n",
       "      <td>shipblu</td>\n",
       "      <td>False</td>\n",
       "    </tr>\n",
       "    <tr>\n",
       "      <th>4</th>\n",
       "      <td>Christopher</td>\n",
       "      <td>Chae</td>\n",
       "      <td>_chrischae</td>\n",
       "      <td>https://bookface-images.s3.amazonaws.com/avata...</td>\n",
       "      <td>Relate</td>\n",
       "      <td>NaN</td>\n",
       "      <td>relate</td>\n",
       "      <td>False</td>\n",
       "    </tr>\n",
       "  </tbody>\n",
       "</table>\n",
       "</div>"
      ],
      "text/plain": [
       "    first_name      last_name        hnid  \\\n",
       "0     Debanjum  Singh Solanky         110   \n",
       "1          Jon           Wade      __JW__   \n",
       "2           Sy           Bohy      __sy__   \n",
       "3  Abdelrahman          Hosny     _ahosny   \n",
       "4  Christopher           Chae  _chrischae   \n",
       "\n",
       "                                        avatar_thumb current_company  \\\n",
       "0  https://bookface-images.s3.amazonaws.com/avata...            Khoj   \n",
       "1  https://bookface-images.s3.amazonaws.com/avata...             NaN   \n",
       "2  https://bookface-images.s3.amazonaws.com/avata...            Seam   \n",
       "3  https://bookface-images.s3.amazonaws.com/avata...         ShipBlu   \n",
       "4  https://bookface-images.s3.amazonaws.com/avata...          Relate   \n",
       "\n",
       "  current_title company_slug  top_company  \n",
       "0           NaN         khoj        False  \n",
       "1           NaN      union54        False  \n",
       "2           NaN         seam        False  \n",
       "3           NaN      shipblu        False  \n",
       "4           NaN       relate        False  "
      ]
     },
     "execution_count": 4,
     "metadata": {},
     "output_type": "execute_result"
    }
   ],
   "source": [
    "founders.head()#"
   ]
  },
  {
   "cell_type": "code",
   "execution_count": 5,
   "metadata": {},
   "outputs": [
    {
     "data": {
      "text/html": [
       "<div>\n",
       "<style scoped>\n",
       "    .dataframe tbody tr th:only-of-type {\n",
       "        vertical-align: middle;\n",
       "    }\n",
       "\n",
       "    .dataframe tbody tr th {\n",
       "        vertical-align: top;\n",
       "    }\n",
       "\n",
       "    .dataframe thead th {\n",
       "        text-align: right;\n",
       "    }\n",
       "</style>\n",
       "<table border=\"1\" class=\"dataframe\">\n",
       "  <thead>\n",
       "    <tr style=\"text-align: right;\">\n",
       "      <th></th>\n",
       "      <th>hnid</th>\n",
       "      <th>company</th>\n",
       "    </tr>\n",
       "  </thead>\n",
       "  <tbody>\n",
       "    <tr>\n",
       "      <th>0</th>\n",
       "      <td>110</td>\n",
       "      <td>Khoj</td>\n",
       "    </tr>\n",
       "    <tr>\n",
       "      <th>1</th>\n",
       "      <td>110</td>\n",
       "      <td>Microsoft</td>\n",
       "    </tr>\n",
       "    <tr>\n",
       "      <th>2</th>\n",
       "      <td>110</td>\n",
       "      <td>Hillhacks</td>\n",
       "    </tr>\n",
       "    <tr>\n",
       "      <th>3</th>\n",
       "      <td>__JW__</td>\n",
       "      <td>Union54</td>\n",
       "    </tr>\n",
       "    <tr>\n",
       "      <th>4</th>\n",
       "      <td>__sy__</td>\n",
       "      <td>Seam</td>\n",
       "    </tr>\n",
       "  </tbody>\n",
       "</table>\n",
       "</div>"
      ],
      "text/plain": [
       "     hnid    company\n",
       "0     110       Khoj\n",
       "1     110  Microsoft\n",
       "2     110  Hillhacks\n",
       "3  __JW__    Union54\n",
       "4  __sy__       Seam"
      ]
     },
     "execution_count": 5,
     "metadata": {},
     "output_type": "execute_result"
    }
   ],
   "source": [
    "prior_companies.head()"
   ]
  },
  {
   "cell_type": "code",
   "execution_count": 11,
   "metadata": {},
   "outputs": [
    {
     "name": "stdout",
     "output_type": "stream",
     "text": [
      "8404\n",
      "8404\n"
     ]
    }
   ],
   "source": [
    "founders_exp = pd.merge(founders, prior_companies, how='left', on='hnid')[['first_name', 'last_name', 'company']]\n",
    "faang = {'Netflix', 'Apple', 'Google', 'Facebook', 'Meta', 'Amazon', 'Amazon Web Services'}\n",
    "founders_exp['wasFaang'] = founders_exp['company'].isin(faang).astype(int)\n",
    "founders_exp['founder'] = founders_exp['first_name'] + ' ' + founders_exp['last_name']\n",
    "max_faang_rows = founders_exp.loc[founders_exp.groupby('founder')['wasFaang'].idxmax()]\n",
    "remaining_rows = founders_exp.loc[~founders_exp['founder'].isin(max_faang_rows['founder'])]\n",
    "final_rows = pd.concat([max_faang_rows, remaining_rows[remaining_rows['wasFaang'] == 0]])\n",
    "final_rows = final_rows[['founder', 'wasFaang']].drop_duplicates(ignore_index=True).dropna()\n",
    "\n",
    "final_rows.to_csv('/Users/siddarvind/Downloads/isFaang.csv')"
   ]
  }
 ],
 "metadata": {
  "kernelspec": {
   "display_name": "base",
   "language": "python",
   "name": "python3"
  },
  "language_info": {
   "codemirror_mode": {
    "name": "ipython",
    "version": 3
   },
   "file_extension": ".py",
   "mimetype": "text/x-python",
   "name": "python",
   "nbconvert_exporter": "python",
   "pygments_lexer": "ipython3",
   "version": "3.8.18"
  },
  "orig_nbformat": 4
 },
 "nbformat": 4,
 "nbformat_minor": 2
}
